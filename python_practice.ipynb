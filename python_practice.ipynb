{
 "cells": [
  {
   "cell_type": "code",
   "execution_count": 1,
   "id": "ac91f0c0-359b-4739-87e9-3ccdc6178cec",
   "metadata": {},
   "outputs": [
    {
     "name": "stdout",
     "output_type": "stream",
     "text": [
      "*\n",
      "**\n",
      "***\n",
      "****\n",
      "*****\n"
     ]
    }
   ],
   "source": [
    "for i in range(5):\n",
    "    print(\"*\"*(i+1))"
   ]
  },
  {
   "cell_type": "code",
   "execution_count": 2,
   "id": "3d0e3fb5-60fd-4ce0-ad05-dcfe9b8a671d",
   "metadata": {},
   "outputs": [
    {
     "name": "stdout",
     "output_type": "stream",
     "text": [
      "*****\n",
      "****\n",
      "***\n",
      "**\n",
      "*\n"
     ]
    }
   ],
   "source": [
    "for i in range(5):\n",
    "    print(\"*\"*(5-i))"
   ]
  },
  {
   "cell_type": "code",
   "execution_count": 3,
   "id": "ee6610e4-0bd5-44c4-851d-f0a49dd8ee9b",
   "metadata": {},
   "outputs": [
    {
     "name": "stdout",
     "output_type": "stream",
     "text": [
      "1\n",
      "22\n",
      "333\n",
      "4444\n",
      "55555\n"
     ]
    }
   ],
   "source": [
    "for i in range(5):\n",
    "    print(str(i+1)*(i+1))"
   ]
  },
  {
   "cell_type": "code",
   "execution_count": 4,
   "id": "03118e59-0126-481a-8a01-51423f406548",
   "metadata": {},
   "outputs": [
    {
     "name": "stdout",
     "output_type": "stream",
     "text": [
      "11111\n",
      "22222\n",
      "33333\n",
      "44444\n",
      "55555\n"
     ]
    }
   ],
   "source": [
    "for i in range(5):\n",
    "    print(str(i+1)*5)"
   ]
  },
  {
   "cell_type": "code",
   "execution_count": 5,
   "id": "d924dddb-fb4d-4f1b-9a5f-0237b2fc572d",
   "metadata": {},
   "outputs": [
    {
     "name": "stdin",
     "output_type": "stream",
     "text": [
      "Enter the number :  5\n"
     ]
    },
    {
     "name": "stdout",
     "output_type": "stream",
     "text": [
      "    * \n",
      "   * * \n",
      "  * * * \n",
      " * * * * \n",
      "* * * * * \n"
     ]
    }
   ],
   "source": [
    "n = int(input(\"Enter the number : \"))\n",
    "for i in range(n):\n",
    "    print((' '*(n-i-1))+(\"* \")*(i+1))"
   ]
  },
  {
   "cell_type": "code",
   "execution_count": 6,
   "id": "8377b82c-79c5-4435-9b37-8b1ba0f0d940",
   "metadata": {},
   "outputs": [
    {
     "name": "stdin",
     "output_type": "stream",
     "text": [
      "Enter the number :  5\n"
     ]
    },
    {
     "name": "stdout",
     "output_type": "stream",
     "text": [
      "* * * * * \n",
      " * * * * \n",
      "  * * * \n",
      "   * * \n",
      "    * \n"
     ]
    }
   ],
   "source": [
    "n = int(input(\"Enter the number : \"))\n",
    "for i in range(n):\n",
    "    print(\" \"*i+\"* \"*(n-i))"
   ]
  },
  {
   "cell_type": "code",
   "execution_count": 7,
   "id": "c81547df-c7d9-460e-94c6-086fe077112f",
   "metadata": {},
   "outputs": [
    {
     "name": "stdin",
     "output_type": "stream",
     "text": [
      "Enter the number :  5\n"
     ]
    },
    {
     "name": "stdout",
     "output_type": "stream",
     "text": [
      "    * \n",
      "   * * \n",
      "  * * * \n",
      " * * * * \n",
      "* * * * * \n",
      "* * * * * \n",
      " * * * * \n",
      "  * * * \n",
      "   * * \n",
      "    * \n"
     ]
    }
   ],
   "source": [
    "n = int(input(\"Enter the number : \"))\n",
    "for i in range(n):\n",
    "    print((' '*(n-i-1))+(\"* \")*(i+1))\n",
    "for i in range(n):\n",
    "    print(\" \"*i+\"* \"*(n-i))"
   ]
  },
  {
   "cell_type": "code",
   "execution_count": 8,
   "id": "9fe5cf5c-4fd1-47a9-a46d-79bdb0693065",
   "metadata": {},
   "outputs": [],
   "source": [
    "def cache(fn):\n",
    "    data_cache = {}\n",
    "\n",
    "    def inner(*args):\n",
    "        key = tuple(args)\n",
    "        if key in data_cache:\n",
    "            return data_cache[key]\n",
    "        result = fn(*args)\n",
    "        data_cache[key] = result\n",
    "        return result\n",
    "    return inner"
   ]
  },
  {
   "cell_type": "code",
   "execution_count": 9,
   "id": "4f67e20e-eceb-4d63-a6fc-e1bb4e8f3c16",
   "metadata": {},
   "outputs": [],
   "source": [
    "@cache\n",
    "def fib(n):\n",
    "    if n <= 1:\n",
    "        return 1\n",
    "    return fib(n-1) + fib(n-2)"
   ]
  },
  {
   "cell_type": "code",
   "execution_count": 10,
   "id": "54bb503e-2ce3-499a-accd-67d3e61e66c5",
   "metadata": {},
   "outputs": [
    {
     "data": {
      "text/plain": [
       "70330367711422815821835254877183549770181269836358732742604905087154537118196933579742249494562611733487750449241765991088186363265450223647106012053374121273867339111198139373125598767690091902245245323403501"
      ]
     },
     "execution_count": 10,
     "metadata": {},
     "output_type": "execute_result"
    }
   ],
   "source": [
    "fib(1000)"
   ]
  },
  {
   "cell_type": "code",
   "execution_count": 11,
   "id": "75f13ca1-79ee-4e39-805e-3ef57bbe7e9a",
   "metadata": {},
   "outputs": [],
   "source": [
    "from functools import lru_cache\n",
    "\n",
    "@lru_cache\n",
    "def fib1(n):\n",
    "    if n <= 1:\n",
    "        return 1\n",
    "    return fib(n-1) + fib(n-2)"
   ]
  },
  {
   "cell_type": "code",
   "execution_count": 12,
   "id": "f7daaf1c-2515-4965-a629-1984a9d009fe",
   "metadata": {},
   "outputs": [
    {
     "data": {
      "text/plain": [
       "20365011074"
      ]
     },
     "execution_count": 12,
     "metadata": {},
     "output_type": "execute_result"
    }
   ],
   "source": [
    "fib1(50)"
   ]
  },
  {
   "cell_type": "code",
   "execution_count": 14,
   "id": "96b08e8f-7282-4ce0-a95b-13decf63f6b5",
   "metadata": {},
   "outputs": [],
   "source": [
    "from timeit import repeat\n",
    "import gc\n",
    "\n",
    "gc.disable()\n",
    "\n",
    "list_comp: str = \"\"\"my_list: list[int] = [i for i in range(10)]\"\"\"\n",
    "\n",
    "list_comp_re = min(repeat(list_comp, repeat=5, number=10000))\n",
    "\n"
   ]
  },
  {
   "cell_type": "code",
   "execution_count": 16,
   "id": "ebc107ce-764d-4211-a8a5-f00be4bc3c3e",
   "metadata": {},
   "outputs": [
    {
     "name": "stdout",
     "output_type": "stream",
     "text": [
      "madam is a palindrome\n"
     ]
    }
   ],
   "source": [
    "def is_palindrome(string):\n",
    "    reversed_string = string[::-1]\n",
    "    return string == reversed_string\n",
    "\n",
    "# Test the function\n",
    "word = \"madam\"\n",
    "if is_palindrome(word):\n",
    "    print(f\"{word} is a palindrome\")\n",
    "else:\n",
    "    print(f\"{word} is not a palindrome\")"
   ]
  },
  {
   "cell_type": "code",
   "execution_count": 21,
   "id": "98d7a6fa-8386-4150-9c59-ec813a02357c",
   "metadata": {},
   "outputs": [
    {
     "name": "stdout",
     "output_type": "stream",
     "text": [
      "The factorial of 50 is 30414093201713378043612608166064768844377641568960512000000000000\n"
     ]
    }
   ],
   "source": [
    "@lru_cache\n",
    "def factorial(n):\n",
    "    if n == 0:\n",
    "        return 1\n",
    "    else:\n",
    "        return n * factorial(n-1)\n",
    "\n",
    "\n",
    "number = 50\n",
    "result = factorial(number)\n",
    "print(f\"The factorial of {number} is {result}\")"
   ]
  },
  {
   "cell_type": "code",
   "execution_count": 23,
   "id": "5698cc81-12c5-40de-beb0-7ab55070597e",
   "metadata": {},
   "outputs": [
    {
     "name": "stdout",
     "output_type": "stream",
     "text": [
      "The largest number is 55\n"
     ]
    }
   ],
   "source": [
    "def find_largest(numbers):\n",
    "    largest = numbers[0]\n",
    "    for num in numbers:\n",
    "        if num > largest:\n",
    "            largest = num\n",
    "    return largest\n",
    "\n",
    "# Test the function\n",
    "nums = [10, 55, 8, 20, 3]\n",
    "largest_num = find_largest(nums)\n",
    "print(f\"The largest number is {largest_num}\")"
   ]
  },
  {
   "cell_type": "code",
   "execution_count": 24,
   "id": "a274fc12-49a6-4c26-8d2a-d4bee84e1d85",
   "metadata": {},
   "outputs": [
    {
     "name": "stdout",
     "output_type": "stream",
     "text": [
      "!dlroW ,olleH\n"
     ]
    }
   ],
   "source": [
    "def reverse_string(string):\n",
    "    return string[::-1]\n",
    "\n",
    "# Test the function\n",
    "text = \"Hello, World!\"\n",
    "reversed_text = reverse_string(text)\n",
    "print(reversed_text)"
   ]
  },
  {
   "cell_type": "code",
   "execution_count": 25,
   "id": "002cadcc-e158-4411-9110-786cbfd7b230",
   "metadata": {},
   "outputs": [
    {
     "name": "stdout",
     "output_type": "stream",
     "text": [
      "{1: 2, 2: 3, 3: 2, 4: 2, 5: 1}\n"
     ]
    }
   ],
   "source": [
    "def count_frequency(numbers):\n",
    "    frequency = {}\n",
    "    for num in numbers:\n",
    "        if num in frequency:\n",
    "            frequency[num] += 1\n",
    "        else:\n",
    "            frequency[num] = 1\n",
    "    return frequency\n",
    "\n",
    "# Test the function\n",
    "nums = [1, 2, 3, 2, 1, 3, 2, 4, 5, 4]\n",
    "frequency_count = count_frequency(nums)\n",
    "print(frequency_count)"
   ]
  },
  {
   "cell_type": "code",
   "execution_count": 26,
   "id": "c0f0aa44-0afc-45f5-8f67-30823ab2cd54",
   "metadata": {},
   "outputs": [
    {
     "name": "stdout",
     "output_type": "stream",
     "text": [
      "17 is a prime number\n"
     ]
    }
   ],
   "source": [
    "def is_prime(number):\n",
    "    if number < 2:\n",
    "        return False\n",
    "    for i in range(2, int(number**0.5) + 1):\n",
    "        if number % i == 0:\n",
    "            return False\n",
    "    return True\n",
    "\n",
    "# Test the function\n",
    "num = 17\n",
    "if is_prime(num):\n",
    "    print(f\"{num} is a prime number\")\n",
    "else:\n",
    "    print(f\"{num} is not a prime number\")"
   ]
  },
  {
   "cell_type": "code",
   "execution_count": 27,
   "id": "43dd504d-9fe7-4c28-ad39-104f3305e8be",
   "metadata": {},
   "outputs": [
    {
     "name": "stdout",
     "output_type": "stream",
     "text": [
      "[4, 5]\n"
     ]
    }
   ],
   "source": [
    "def find_common_elements(list1, list2):\n",
    "    common_elements = []\n",
    "    for item in list1:\n",
    "        if item in list2:\n",
    "            common_elements.append(item)\n",
    "    return common_elements\n",
    "\n",
    "# Test the function\n",
    "list_a = [1, 2, 3, 4, 5]\n",
    "list_b = [4, 5, 6, 7, 8]\n",
    "common = find_common_elements(list_a, list_b)\n",
    "print(common)"
   ]
  },
  {
   "cell_type": "code",
   "execution_count": 28,
   "id": "58465c68-ca59-4a36-8598-7553ace292df",
   "metadata": {},
   "outputs": [
    {
     "name": "stdout",
     "output_type": "stream",
     "text": [
      "[1, 2, 5, 8, 9]\n"
     ]
    }
   ],
   "source": [
    "def bubble_sort(elements):\n",
    "    n = len(elements)\n",
    "    for i in range(n - 1):\n",
    "        for j in range(n - i - 1):\n",
    "            if elements[j] > elements[j + 1]:\n",
    "                elements[j], elements[j + 1] = elements[j + 1], elements[j]\n",
    "\n",
    "# Test the function\n",
    "nums = [5, 2, 8, 1, 9]\n",
    "bubble_sort(nums)\n",
    "print(nums)"
   ]
  },
  {
   "cell_type": "code",
   "execution_count": 29,
   "id": "0adf81b3-2880-49a9-90a8-2d37d136a020",
   "metadata": {},
   "outputs": [
    {
     "name": "stdout",
     "output_type": "stream",
     "text": [
      "The second largest number is 10\n"
     ]
    }
   ],
   "source": [
    "def find_second_largest(numbers):\n",
    "    largest = float('-inf')\n",
    "    second_largest = float('-inf')\n",
    "    for num in numbers:\n",
    "        if num > largest:\n",
    "            second_largest = largest\n",
    "            largest = num\n",
    "        elif num > second_largest and num != largest:\n",
    "            second_largest = num\n",
    "    return second_largest\n",
    "\n",
    "# Test the function\n",
    "nums = [10, 5, 8, 20, 3]\n",
    "second_largest_num = find_second_largest(nums)\n",
    "print(f\"The second largest number is {second_largest_num}\")"
   ]
  },
  {
   "cell_type": "code",
   "execution_count": 30,
   "id": "d0d91599-7c34-49b3-bb9a-eece5ade28ba",
   "metadata": {},
   "outputs": [
    {
     "name": "stdout",
     "output_type": "stream",
     "text": [
      "[1, 2, 3, 4, 5]\n"
     ]
    }
   ],
   "source": [
    "def remove_duplicates(numbers):\n",
    "    unique_numbers = []\n",
    "    for num in numbers:\n",
    "        if num not in unique_numbers:\n",
    "            unique_numbers.append(num)\n",
    "    return unique_numbers\n",
    "\n",
    "# Test the function\n",
    "nums = [1, 2, 3, 2, 1, 3, 2, 4, 5, 4]\n",
    "unique_nums = remove_duplicates(nums)\n",
    "print(unique_nums)"
   ]
  },
  {
   "cell_type": "code",
   "execution_count": 1,
   "id": "3a53ebf0-6686-4895-945b-a62c6ab8f835",
   "metadata": {},
   "outputs": [
    {
     "name": "stdin",
     "output_type": "stream",
     "text": [
      "Enter a number:  10\n",
      "Enter a number:  14\n",
      "Enter a number:  12\n"
     ]
    },
    {
     "name": "stdout",
     "output_type": "stream",
     "text": [
      "14\n"
     ]
    }
   ],
   "source": [
    "def maximum(a, b, c):\n",
    "\n",
    "    if (a >= b) and (a >= c):\n",
    "        largest = a\n",
    "\n",
    "    elif (b >= a) and (b >= c):\n",
    "        largest = b\n",
    "    else:\n",
    "        largest = c\n",
    "        \n",
    "    return largest\n",
    "\n",
    "\n",
    "a = int(input(\"Enter a number: \"))\n",
    "# Input1: 10\n",
    "b = int(input(\"Enter a number: \"))\n",
    "# Input2: 14\n",
    "c = int(input(\"Enter a number: \"))\n",
    "# Input3: 12\n",
    "print(maximum(a, b, c))\n",
    "# Output: 14"
   ]
  },
  {
   "cell_type": "code",
   "execution_count": 2,
   "id": "df09ca95-345f-487e-8f6c-b52b9433c0b2",
   "metadata": {},
   "outputs": [
    {
     "name": "stdout",
     "output_type": "stream",
     "text": [
      "A \n",
      "B C \n",
      "D E F \n",
      "G H I J \n",
      "K L M N O \n"
     ]
    }
   ],
   "source": [
    "def contalpha(n):\n",
    "    num = 65\n",
    "    for i in range(0, n):\n",
    "        for j in range(0, i+1):\n",
    "            ch = chr(num)\n",
    "            print(ch, end=\" \")\n",
    "            num = num + 1\n",
    "        print()\n",
    "n = 5\n",
    "contalpha(n)"
   ]
  },
  {
   "cell_type": "code",
   "execution_count": 4,
   "id": "3f6d3b98-68c3-4b90-a861-6ad65ff0f091",
   "metadata": {},
   "outputs": [
    {
     "name": "stdout",
     "output_type": "stream",
     "text": [
      "[1, 1, 2, 3, 6, 8, 10]\n"
     ]
    }
   ],
   "source": [
    "def quicksort(arr): # nlog(n)\n",
    "    if len(arr) <= 1:\n",
    "        return arr\n",
    "    pivot = arr[len(arr) // 2]\n",
    "    left = [x for x in arr if x < pivot]\n",
    "    middle = [x for x in arr if x == pivot]\n",
    "    right = [x for x in arr if x > pivot]\n",
    "    return quicksort(left) + middle + quicksort(right)\n",
    "\n",
    "# Example usage\n",
    "my_list = [3, 6, 8, 10, 1, 2, 1]\n",
    "print(quicksort(my_list))  # Output: [1, 1, 2, 3, 6, 8, 10]"
   ]
  },
  {
   "cell_type": "code",
   "execution_count": 6,
   "id": "cba83c93-cf70-41c8-9756-4ad102f2516d",
   "metadata": {},
   "outputs": [
    {
     "name": "stdout",
     "output_type": "stream",
     "text": [
      "[1, 1, 2, 3, 6, 8, 10]\n"
     ]
    }
   ],
   "source": [
    "def bubble_sort(arr):\n",
    "    n = len(arr)\n",
    "    for i in range(n - 1):\n",
    "        for j in range(n - i - 1):\n",
    "            if arr[j] > arr[j + 1]:\n",
    "                arr[j], arr[j + 1] = arr[j + 1], arr[j]\n",
    "    return arr\n",
    "\n",
    "# Example usage\n",
    "my_list = [3, 6, 8, 10, 1, 2, 1]\n",
    "print(bubble_sort(my_list))  # Output: [1, 1, 2, 3, 6, 8, 10]"
   ]
  },
  {
   "cell_type": "code",
   "execution_count": null,
   "id": "5d7f187e-a274-40f0-a05d-ff30de762bc6",
   "metadata": {},
   "outputs": [],
   "source": []
  }
 ],
 "metadata": {
  "kernelspec": {
   "display_name": "Python 3 (ipykernel)",
   "language": "python",
   "name": "python3"
  },
  "language_info": {
   "codemirror_mode": {
    "name": "ipython",
    "version": 3
   },
   "file_extension": ".py",
   "mimetype": "text/x-python",
   "name": "python",
   "nbconvert_exporter": "python",
   "pygments_lexer": "ipython3",
   "version": "3.11.7"
  }
 },
 "nbformat": 4,
 "nbformat_minor": 5
}
